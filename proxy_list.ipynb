{
  "nbformat": 4,
  "nbformat_minor": 0,
  "metadata": {
    "colab": {
      "provenance": [],
      "include_colab_link": true
    },
    "kernelspec": {
      "name": "python3",
      "display_name": "Python 3"
    },
    "language_info": {
      "name": "python"
    }
  },
  "cells": [
    {
      "cell_type": "markdown",
      "metadata": {
        "id": "view-in-github",
        "colab_type": "text"
      },
      "source": [
        "<a href=\"https://colab.research.google.com/github/cmgchess/free-proxy-list/blob/main/proxy_list.ipynb\" target=\"_parent\"><img src=\"https://colab.research.google.com/assets/colab-badge.svg\" alt=\"Open In Colab\"/></a>"
      ]
    },
    {
      "cell_type": "code",
      "execution_count": null,
      "metadata": {
        "id": "xzCzUm2x8T8-"
      },
      "outputs": [],
      "source": [
        "import requests\n",
        "from bs4 import BeautifulSoup"
      ]
    },
    {
      "cell_type": "code",
      "source": [
        "r = requests.get('https://free-proxy-list.net/')\n",
        "soup = BeautifulSoup(r.content, 'html.parser')"
      ],
      "metadata": {
        "id": "Lq2kQKTX8tsZ"
      },
      "execution_count": null,
      "outputs": []
    },
    {
      "cell_type": "code",
      "source": [
        "entries = []\n",
        "table = soup.find('table', class_ = 'table table-striped table-bordered')"
      ],
      "metadata": {
        "id": "F_VMeHQh8xxY"
      },
      "execution_count": null,
      "outputs": []
    },
    {
      "cell_type": "code",
      "source": [
        "table_rows = table.find_all('tr')\n",
        "table_rows = table_rows[1:]\n"
      ],
      "metadata": {
        "id": "Mo_p8E5b9TxZ"
      },
      "execution_count": null,
      "outputs": []
    },
    {
      "cell_type": "code",
      "source": [
        "for row in table_rows:\n",
        "  \n",
        "  tds = row.find_all('td')\n",
        "  entry = {'IP':tds[0].text,'Port':tds[1].text,'Code':tds[2].text,'Country':tds[3].text,'Anonymity':tds[4].text,'Google':tds[5].text,'Https':tds[6].text,'Last Checked':tds[7].text}\n",
        "  full_ip = ''\n",
        "  if entry['Https'] == 'yes':\n",
        "    full_ip+='https://'\n",
        "  elif entry['Https'] == 'no':\n",
        "    full_ip+='http://'\n",
        "  full_ip = full_ip + entry['IP'] + ':' + entry['Port']\n",
        "  entry['Full IP'] = full_ip\n",
        "  entries.append(entry)"
      ],
      "metadata": {
        "id": "aOix-Oc29onK"
      },
      "execution_count": null,
      "outputs": []
    },
    {
      "cell_type": "code",
      "source": [
        "import pandas as pd\n",
        "df = pd.DataFrame(columns = ['IP', 'Port','Code','Country', 'Anonymity','Google','Https','Last Checked','Full IP'])"
      ],
      "metadata": {
        "id": "NWF1GJb0-vox"
      },
      "execution_count": null,
      "outputs": []
    },
    {
      "cell_type": "code",
      "source": [
        "for e in entries:\n",
        "  df = df.append(e,ignore_index = True)"
      ],
      "metadata": {
        "id": "3QaSML73AYiZ"
      },
      "execution_count": null,
      "outputs": []
    },
    {
      "cell_type": "code",
      "source": [
        "df"
      ],
      "metadata": {
        "colab": {
          "base_uri": "https://localhost:8080/",
          "height": 424
        },
        "id": "sKNoHdxUAbDg",
        "outputId": "2e55783d-09ca-475e-b4f7-60d2581bc712"
      },
      "execution_count": null,
      "outputs": [
        {
          "output_type": "execute_result",
          "data": {
            "text/plain": [
              "                  IP   Port Code             Country    Anonymity Google  \\\n",
              "0      176.192.70.58   8008   RU  Russian Federation  elite proxy          \n",
              "1        36.93.83.25   8080   ID           Indonesia  elite proxy          \n",
              "2       37.26.86.206  47464   AL             Albania  elite proxy          \n",
              "3     143.244.133.78     80   IN               India  elite proxy          \n",
              "4         95.31.5.29  54651   RU  Russian Federation  elite proxy          \n",
              "..               ...    ...  ...                 ...          ...    ...   \n",
              "295   103.178.41.235   8085   ID           Indonesia  transparent     no   \n",
              "296  201.150.117.129    999   MX              Mexico  transparent     no   \n",
              "297   187.250.67.167    999   MX              Mexico  transparent     no   \n",
              "298      41.57.25.33   8080   ZA        South Africa  transparent     no   \n",
              "299      89.58.10.16   3129   DE             Germany    anonymous    yes   \n",
              "\n",
              "    Https        Last Checked                     Full IP  \n",
              "0      no         15 secs ago   http://176.192.70.58:8008  \n",
              "1      no         15 secs ago     http://36.93.83.25:8080  \n",
              "2      no         15 secs ago   http://37.26.86.206:47464  \n",
              "3      no         15 secs ago    http://143.244.133.78:80  \n",
              "4      no         15 secs ago     http://95.31.5.29:54651  \n",
              "..    ...                 ...                         ...  \n",
              "295    no  1 hour 26 mins ago  http://103.178.41.235:8085  \n",
              "296    no  1 hour 26 mins ago  http://201.150.117.129:999  \n",
              "297    no  1 hour 26 mins ago   http://187.250.67.167:999  \n",
              "298    no  1 hour 26 mins ago     http://41.57.25.33:8080  \n",
              "299   yes  1 hour 30 mins ago    https://89.58.10.16:3129  \n",
              "\n",
              "[300 rows x 9 columns]"
            ],
            "text/html": [
              "\n",
              "  <div id=\"df-0310295d-512c-43c9-b687-a4e3963dd89d\">\n",
              "    <div class=\"colab-df-container\">\n",
              "      <div>\n",
              "<style scoped>\n",
              "    .dataframe tbody tr th:only-of-type {\n",
              "        vertical-align: middle;\n",
              "    }\n",
              "\n",
              "    .dataframe tbody tr th {\n",
              "        vertical-align: top;\n",
              "    }\n",
              "\n",
              "    .dataframe thead th {\n",
              "        text-align: right;\n",
              "    }\n",
              "</style>\n",
              "<table border=\"1\" class=\"dataframe\">\n",
              "  <thead>\n",
              "    <tr style=\"text-align: right;\">\n",
              "      <th></th>\n",
              "      <th>IP</th>\n",
              "      <th>Port</th>\n",
              "      <th>Code</th>\n",
              "      <th>Country</th>\n",
              "      <th>Anonymity</th>\n",
              "      <th>Google</th>\n",
              "      <th>Https</th>\n",
              "      <th>Last Checked</th>\n",
              "      <th>Full IP</th>\n",
              "    </tr>\n",
              "  </thead>\n",
              "  <tbody>\n",
              "    <tr>\n",
              "      <th>0</th>\n",
              "      <td>176.192.70.58</td>\n",
              "      <td>8008</td>\n",
              "      <td>RU</td>\n",
              "      <td>Russian Federation</td>\n",
              "      <td>elite proxy</td>\n",
              "      <td></td>\n",
              "      <td>no</td>\n",
              "      <td>15 secs ago</td>\n",
              "      <td>http://176.192.70.58:8008</td>\n",
              "    </tr>\n",
              "    <tr>\n",
              "      <th>1</th>\n",
              "      <td>36.93.83.25</td>\n",
              "      <td>8080</td>\n",
              "      <td>ID</td>\n",
              "      <td>Indonesia</td>\n",
              "      <td>elite proxy</td>\n",
              "      <td></td>\n",
              "      <td>no</td>\n",
              "      <td>15 secs ago</td>\n",
              "      <td>http://36.93.83.25:8080</td>\n",
              "    </tr>\n",
              "    <tr>\n",
              "      <th>2</th>\n",
              "      <td>37.26.86.206</td>\n",
              "      <td>47464</td>\n",
              "      <td>AL</td>\n",
              "      <td>Albania</td>\n",
              "      <td>elite proxy</td>\n",
              "      <td></td>\n",
              "      <td>no</td>\n",
              "      <td>15 secs ago</td>\n",
              "      <td>http://37.26.86.206:47464</td>\n",
              "    </tr>\n",
              "    <tr>\n",
              "      <th>3</th>\n",
              "      <td>143.244.133.78</td>\n",
              "      <td>80</td>\n",
              "      <td>IN</td>\n",
              "      <td>India</td>\n",
              "      <td>elite proxy</td>\n",
              "      <td></td>\n",
              "      <td>no</td>\n",
              "      <td>15 secs ago</td>\n",
              "      <td>http://143.244.133.78:80</td>\n",
              "    </tr>\n",
              "    <tr>\n",
              "      <th>4</th>\n",
              "      <td>95.31.5.29</td>\n",
              "      <td>54651</td>\n",
              "      <td>RU</td>\n",
              "      <td>Russian Federation</td>\n",
              "      <td>elite proxy</td>\n",
              "      <td></td>\n",
              "      <td>no</td>\n",
              "      <td>15 secs ago</td>\n",
              "      <td>http://95.31.5.29:54651</td>\n",
              "    </tr>\n",
              "    <tr>\n",
              "      <th>...</th>\n",
              "      <td>...</td>\n",
              "      <td>...</td>\n",
              "      <td>...</td>\n",
              "      <td>...</td>\n",
              "      <td>...</td>\n",
              "      <td>...</td>\n",
              "      <td>...</td>\n",
              "      <td>...</td>\n",
              "      <td>...</td>\n",
              "    </tr>\n",
              "    <tr>\n",
              "      <th>295</th>\n",
              "      <td>103.178.41.235</td>\n",
              "      <td>8085</td>\n",
              "      <td>ID</td>\n",
              "      <td>Indonesia</td>\n",
              "      <td>transparent</td>\n",
              "      <td>no</td>\n",
              "      <td>no</td>\n",
              "      <td>1 hour 26 mins ago</td>\n",
              "      <td>http://103.178.41.235:8085</td>\n",
              "    </tr>\n",
              "    <tr>\n",
              "      <th>296</th>\n",
              "      <td>201.150.117.129</td>\n",
              "      <td>999</td>\n",
              "      <td>MX</td>\n",
              "      <td>Mexico</td>\n",
              "      <td>transparent</td>\n",
              "      <td>no</td>\n",
              "      <td>no</td>\n",
              "      <td>1 hour 26 mins ago</td>\n",
              "      <td>http://201.150.117.129:999</td>\n",
              "    </tr>\n",
              "    <tr>\n",
              "      <th>297</th>\n",
              "      <td>187.250.67.167</td>\n",
              "      <td>999</td>\n",
              "      <td>MX</td>\n",
              "      <td>Mexico</td>\n",
              "      <td>transparent</td>\n",
              "      <td>no</td>\n",
              "      <td>no</td>\n",
              "      <td>1 hour 26 mins ago</td>\n",
              "      <td>http://187.250.67.167:999</td>\n",
              "    </tr>\n",
              "    <tr>\n",
              "      <th>298</th>\n",
              "      <td>41.57.25.33</td>\n",
              "      <td>8080</td>\n",
              "      <td>ZA</td>\n",
              "      <td>South Africa</td>\n",
              "      <td>transparent</td>\n",
              "      <td>no</td>\n",
              "      <td>no</td>\n",
              "      <td>1 hour 26 mins ago</td>\n",
              "      <td>http://41.57.25.33:8080</td>\n",
              "    </tr>\n",
              "    <tr>\n",
              "      <th>299</th>\n",
              "      <td>89.58.10.16</td>\n",
              "      <td>3129</td>\n",
              "      <td>DE</td>\n",
              "      <td>Germany</td>\n",
              "      <td>anonymous</td>\n",
              "      <td>yes</td>\n",
              "      <td>yes</td>\n",
              "      <td>1 hour 30 mins ago</td>\n",
              "      <td>https://89.58.10.16:3129</td>\n",
              "    </tr>\n",
              "  </tbody>\n",
              "</table>\n",
              "<p>300 rows × 9 columns</p>\n",
              "</div>\n",
              "      <button class=\"colab-df-convert\" onclick=\"convertToInteractive('df-0310295d-512c-43c9-b687-a4e3963dd89d')\"\n",
              "              title=\"Convert this dataframe to an interactive table.\"\n",
              "              style=\"display:none;\">\n",
              "        \n",
              "  <svg xmlns=\"http://www.w3.org/2000/svg\" height=\"24px\"viewBox=\"0 0 24 24\"\n",
              "       width=\"24px\">\n",
              "    <path d=\"M0 0h24v24H0V0z\" fill=\"none\"/>\n",
              "    <path d=\"M18.56 5.44l.94 2.06.94-2.06 2.06-.94-2.06-.94-.94-2.06-.94 2.06-2.06.94zm-11 1L8.5 8.5l.94-2.06 2.06-.94-2.06-.94L8.5 2.5l-.94 2.06-2.06.94zm10 10l.94 2.06.94-2.06 2.06-.94-2.06-.94-.94-2.06-.94 2.06-2.06.94z\"/><path d=\"M17.41 7.96l-1.37-1.37c-.4-.4-.92-.59-1.43-.59-.52 0-1.04.2-1.43.59L10.3 9.45l-7.72 7.72c-.78.78-.78 2.05 0 2.83L4 21.41c.39.39.9.59 1.41.59.51 0 1.02-.2 1.41-.59l7.78-7.78 2.81-2.81c.8-.78.8-2.07 0-2.86zM5.41 20L4 18.59l7.72-7.72 1.47 1.35L5.41 20z\"/>\n",
              "  </svg>\n",
              "      </button>\n",
              "      \n",
              "  <style>\n",
              "    .colab-df-container {\n",
              "      display:flex;\n",
              "      flex-wrap:wrap;\n",
              "      gap: 12px;\n",
              "    }\n",
              "\n",
              "    .colab-df-convert {\n",
              "      background-color: #E8F0FE;\n",
              "      border: none;\n",
              "      border-radius: 50%;\n",
              "      cursor: pointer;\n",
              "      display: none;\n",
              "      fill: #1967D2;\n",
              "      height: 32px;\n",
              "      padding: 0 0 0 0;\n",
              "      width: 32px;\n",
              "    }\n",
              "\n",
              "    .colab-df-convert:hover {\n",
              "      background-color: #E2EBFA;\n",
              "      box-shadow: 0px 1px 2px rgba(60, 64, 67, 0.3), 0px 1px 3px 1px rgba(60, 64, 67, 0.15);\n",
              "      fill: #174EA6;\n",
              "    }\n",
              "\n",
              "    [theme=dark] .colab-df-convert {\n",
              "      background-color: #3B4455;\n",
              "      fill: #D2E3FC;\n",
              "    }\n",
              "\n",
              "    [theme=dark] .colab-df-convert:hover {\n",
              "      background-color: #434B5C;\n",
              "      box-shadow: 0px 1px 3px 1px rgba(0, 0, 0, 0.15);\n",
              "      filter: drop-shadow(0px 1px 2px rgba(0, 0, 0, 0.3));\n",
              "      fill: #FFFFFF;\n",
              "    }\n",
              "  </style>\n",
              "\n",
              "      <script>\n",
              "        const buttonEl =\n",
              "          document.querySelector('#df-0310295d-512c-43c9-b687-a4e3963dd89d button.colab-df-convert');\n",
              "        buttonEl.style.display =\n",
              "          google.colab.kernel.accessAllowed ? 'block' : 'none';\n",
              "\n",
              "        async function convertToInteractive(key) {\n",
              "          const element = document.querySelector('#df-0310295d-512c-43c9-b687-a4e3963dd89d');\n",
              "          const dataTable =\n",
              "            await google.colab.kernel.invokeFunction('convertToInteractive',\n",
              "                                                     [key], {});\n",
              "          if (!dataTable) return;\n",
              "\n",
              "          const docLinkHtml = 'Like what you see? Visit the ' +\n",
              "            '<a target=\"_blank\" href=https://colab.research.google.com/notebooks/data_table.ipynb>data table notebook</a>'\n",
              "            + ' to learn more about interactive tables.';\n",
              "          element.innerHTML = '';\n",
              "          dataTable['output_type'] = 'display_data';\n",
              "          await google.colab.output.renderOutput(dataTable, element);\n",
              "          const docLink = document.createElement('div');\n",
              "          docLink.innerHTML = docLinkHtml;\n",
              "          element.appendChild(docLink);\n",
              "        }\n",
              "      </script>\n",
              "    </div>\n",
              "  </div>\n",
              "  "
            ]
          },
          "metadata": {},
          "execution_count": 8
        }
      ]
    },
    {
      "cell_type": "code",
      "source": [
        "google_http_anonym = df[(df['Google']=='yes') & (df['Https']=='no') & (df['Anonymity']=='anonymous')]"
      ],
      "metadata": {
        "id": "gDCpahWMAlGY"
      },
      "execution_count": null,
      "outputs": []
    },
    {
      "cell_type": "code",
      "source": [
        "ip_list = google_http_anonym['Full IP'].tolist()\n",
        "ip_list"
      ],
      "metadata": {
        "colab": {
          "base_uri": "https://localhost:8080/"
        },
        "id": "ffq7zbrhBFQg",
        "outputId": "a9e30c0e-a410-4175-d3b9-5ec5c41c81dc"
      },
      "execution_count": null,
      "outputs": [
        {
          "output_type": "execute_result",
          "data": {
            "text/plain": [
              "['http://70.169.70.87:80',\n",
              " 'http://114.43.123.248:80',\n",
              " 'http://1.162.46.13:80',\n",
              " 'http://203.198.207.253:80',\n",
              " 'http://54.225.134.57:8000',\n",
              " 'http://157.254.193.139:80',\n",
              " 'http://95.154.221.64:80',\n",
              " 'http://111.251.168.190:80',\n",
              " 'http://112.120.127.146:80',\n",
              " 'http://104.148.36.10:80',\n",
              " 'http://103.167.135.110:80',\n",
              " 'http://161.35.223.83:80',\n",
              " 'http://154.236.184.84:1981',\n",
              " 'http://103.183.60.226:9812',\n",
              " 'http://212.107.28.122:80',\n",
              " 'http://209.146.104.51:80',\n",
              " 'http://5.187.2.186:8089',\n",
              " 'http://221.132.18.26:8090',\n",
              " 'http://103.134.17.250:4000',\n",
              " 'http://152.32.202.108:80',\n",
              " 'http://103.154.91.182:8080',\n",
              " 'http://65.21.48.92:8888',\n",
              " 'http://13.91.104.216:80']"
            ]
          },
          "metadata": {},
          "execution_count": 10
        }
      ]
    }
  ]
}